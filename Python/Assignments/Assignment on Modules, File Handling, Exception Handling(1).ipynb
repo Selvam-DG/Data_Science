{
 "cells": [
  {
   "cell_type": "markdown",
   "id": "first-warning",
   "metadata": {},
   "source": [
    "## Modules - Included questions from different internal/external libraries"
   ]
  },
  {
   "cell_type": "code",
   "execution_count": 1,
   "id": "rotary-cleaning",
   "metadata": {},
   "outputs": [],
   "source": [
    "#Mo1  Hint: use json library\n",
    "Write a Python program to convert data in a given json file to the following format.\n",
    "(Find json file attached)\n",
    "Input: Given JSON File (https://drive.google.com/file/d/15zl_FaXdatnlLlciBSrYKdiyaTvEATbO/view)\n",
    "Output:\n",
    "    header.title = \"This is main\"\n",
    "    header.subtitle = \"This is subtext\"\n",
    "    footer.chapter = \"Chapter Title\"\n",
    "    footer.page = \"1\"\n",
    "    footer.revision = \"First\"\n",
    "    body.content = \"This is a paragraph\""
   ]
  },
  {
   "cell_type": "code",
   "execution_count": null,
   "id": "progressive-breach",
   "metadata": {},
   "outputs": [],
   "source": [
    "#Mo2\n",
    "Write a program to download specific video from YouTube and save it inside computer.\n",
    "Take video link as input from the user."
   ]
  },
  {
   "cell_type": "code",
   "execution_count": null,
   "id": "sorted-banner",
   "metadata": {},
   "outputs": [],
   "source": [
    "#Mo3\n",
    "Write a program to play a specific audio file from the computer when the user enters a number which is a multiple of 5.\n",
    "Take 10 inputs from the user in a sequence. Play the audio file for every number which is a multiple of 5."
   ]
  },
  {
   "cell_type": "code",
   "execution_count": null,
   "id": "federal-induction",
   "metadata": {},
   "outputs": [],
   "source": [
    "#Mo4\n",
    "Write a program to print the current time and date in a timezone which is taken as input from the user."
   ]
  },
  {
   "cell_type": "code",
   "execution_count": null,
   "id": "eastern-comment",
   "metadata": {},
   "outputs": [],
   "source": [
    "#Mo5\n",
    "Write a program to tell the week number of a date taken as input from the user.\n",
    "For e.g.: \n",
    "    Input: '13/02/2022'\n",
    "    Output: 6"
   ]
  },
  {
   "cell_type": "code",
   "execution_count": null,
   "id": "artistic-geography",
   "metadata": {},
   "outputs": [],
   "source": [
    "#Mo6\n",
    "Write a program to send a specific mail to person using gmail.\n",
    "Take mail content from a txt file stored in a computer\n",
    "Take receiver email address as input from the user.\n",
    "Send the email from a set gmail account. (Use dummy account here if needed.)"
   ]
  },
  {
   "cell_type": "code",
   "execution_count": null,
   "id": "medium-lodging",
   "metadata": {},
   "outputs": [],
   "source": []
  },
  {
   "cell_type": "code",
   "execution_count": null,
   "id": "micro-union",
   "metadata": {},
   "outputs": [],
   "source": []
  },
  {
   "cell_type": "code",
   "execution_count": null,
   "id": "aggressive-property",
   "metadata": {},
   "outputs": [],
   "source": []
  },
  {
   "cell_type": "code",
   "execution_count": null,
   "id": "rental-charge",
   "metadata": {},
   "outputs": [],
   "source": []
  },
  {
   "cell_type": "markdown",
   "id": "current-nashville",
   "metadata": {},
   "source": [
    "## File Handling"
   ]
  },
  {
   "cell_type": "code",
   "execution_count": null,
   "id": "asian-portable",
   "metadata": {},
   "outputs": [],
   "source": [
    "#F1\n",
    "WAP to read content from one file and create two separate files from the given file content. \n",
    "The given file has two paragraphs separated by '-----------'. \n",
    "Save these two paragraphs in two separate files."
   ]
  },
  {
   "cell_type": "code",
   "execution_count": null,
   "id": "demographic-check",
   "metadata": {},
   "outputs": [],
   "source": [
    "#F2\n",
    "Write a program to save the dictionary inside a file in json style.\n",
    "The dictionary is containing multiple details about a book such as author, date, pages, mrp, etc..."
   ]
  },
  {
   "cell_type": "code",
   "execution_count": null,
   "id": "suffering-gambling",
   "metadata": {},
   "outputs": [],
   "source": [
    "#F3\n",
    "Write a program to read specific lines from a given txt file. Take line number as input from the user."
   ]
  },
  {
   "cell_type": "code",
   "execution_count": null,
   "id": "spare-portrait",
   "metadata": {},
   "outputs": [],
   "source": [
    "#F4\n",
    "Write a Python program that takes a text file as input and returns the number of words present in the file."
   ]
  },
  {
   "cell_type": "code",
   "execution_count": null,
   "id": "soviet-restaurant",
   "metadata": {},
   "outputs": [],
   "source": [
    "#F5\n",
    "Write a Python program to generate 26 text files named A.txt, B.txt, and so on up to Z.txt.\n",
    "Save the multiplication table of the corresponding number in the corresponding text file.\n",
    "For e.g.: Table of 1 in A.txt, Table of 2 in B.txt and so on..."
   ]
  },
  {
   "cell_type": "code",
   "execution_count": null,
   "id": "neutral-essence",
   "metadata": {},
   "outputs": [],
   "source": []
  },
  {
   "cell_type": "markdown",
   "id": "similar-technique",
   "metadata": {},
   "source": [
    "## Regular Expression"
   ]
  },
  {
   "cell_type": "code",
   "execution_count": null,
   "id": "raising-transfer",
   "metadata": {},
   "outputs": [],
   "source": [
    "#Re1\n",
    "Write a Python program where a string will start with a specific number.\n",
    "\n",
    "For e.g.: Check for string starting with 9\n",
    "    Input: 91\n",
    "    Output: True\n",
    "        \n",
    "    Input: 83\n",
    "    Output: False"
   ]
  },
  {
   "cell_type": "code",
   "execution_count": null,
   "id": "psychological-norman",
   "metadata": {},
   "outputs": [],
   "source": [
    "#Re2\n",
    "Write a Python program to search some substrings in a string.\n",
    "\n",
    "For e.g.: \"Python is a great language and easy for beginners\"\n",
    "    Input: \"Python\", \"easy\", \"best\"\n",
    "    Output: \"Matched\", \"Matched\", \"Not Matched\""
   ]
  },
  {
   "cell_type": "code",
   "execution_count": null,
   "id": "hired-chair",
   "metadata": {},
   "outputs": [],
   "source": [
    "#Re3\n",
    "Write a Python program to replace whitespaces with an underscore.\n",
    "\n",
    "For e.g.: \n",
    "    Input: \"Python is a great language and easy for beginners\"\n",
    "    Output: \"Python_is_a_great_language_and_easy_for_beginners\""
   ]
  },
  {
   "cell_type": "code",
   "execution_count": null,
   "id": "applicable-jersey",
   "metadata": {},
   "outputs": [],
   "source": [
    "#Re4\n",
    "Write a Python program to remove leading zeros from an IP address.\n",
    "\n",
    "For e.g.:\n",
    "    Input: \"216.008.094.196\"\n",
    "    Output: \"216.8.94.196\""
   ]
  },
  {
   "cell_type": "code",
   "execution_count": null,
   "id": "vietnamese-calvin",
   "metadata": {},
   "outputs": [],
   "source": [
    "#Re4\n",
    "Write a Python program to find the type of IP Address\n",
    "\n",
    "For e.g.:\n",
    "    Input: 192.0.2.126\n",
    "    Output: IPv4\n",
    "\n",
    "    Input: 3001:0da8:75a3:0000:0000:8a2e:0370:7334\n",
    "    Output: IPv6\n",
    "\n",
    "    Input: 36.12.08.20.52\n",
    "    Output: Neither"
   ]
  },
  {
   "cell_type": "code",
   "execution_count": null,
   "id": "young-combine",
   "metadata": {},
   "outputs": [],
   "source": [
    "#Re5 Hint: Use external library OS\n",
    "Write a Python program to find files having a particular extension\n",
    "\n",
    "For e.g.:\n",
    "    Input: Different files present in a particular folder. Files are of different types\n",
    "    Output: Make a list of all the files having .txt extension"
   ]
  },
  {
   "cell_type": "code",
   "execution_count": null,
   "id": "seven-eugene",
   "metadata": {},
   "outputs": [],
   "source": []
  }
 ],
 "metadata": {
  "kernelspec": {
   "display_name": "Python 3",
   "language": "python",
   "name": "python3"
  },
  "language_info": {
   "codemirror_mode": {
    "name": "ipython",
    "version": 3
   },
   "file_extension": ".py",
   "mimetype": "text/x-python",
   "name": "python",
   "nbconvert_exporter": "python",
   "pygments_lexer": "ipython3",
   "version": "3.9.1"
  }
 },
 "nbformat": 4,
 "nbformat_minor": 5
}
