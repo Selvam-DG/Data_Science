{
 "cells": [
  {
   "cell_type": "code",
   "execution_count": 1,
   "id": "c145af1b",
   "metadata": {},
   "outputs": [
    {
     "data": {
      "text/plain": [
       "'C:\\\\Users\\\\dasar\\\\Desktop\\\\Selva_Git_repo\\\\Data_Science\\\\Machine_Learning\\\\Class Projects\\\\Decision_Tree(CART algorithm)'"
      ]
     },
     "execution_count": 1,
     "metadata": {},
     "output_type": "execute_result"
    }
   ],
   "source": [
    "import os\n",
    "os.getcwd()"
   ]
  },
  {
   "cell_type": "code",
   "execution_count": 5,
   "id": "d516b943",
   "metadata": {},
   "outputs": [],
   "source": [
    "import numpy as np\n",
    "import pandas as pd\n",
    "import matplotlib.pyplot as plt\n",
    "import seaborn as sns\n",
    "%matplotlib inline\n",
    "\n",
    "import warnings\n",
    "warnings.filterwarnings('ignore')"
   ]
  },
  {
   "cell_type": "code",
   "execution_count": 26,
   "id": "9461f9cf",
   "metadata": {
    "scrolled": true
   },
   "outputs": [
    {
     "data": {
      "text/html": [
       "<div>\n",
       "<style scoped>\n",
       "    .dataframe tbody tr th:only-of-type {\n",
       "        vertical-align: middle;\n",
       "    }\n",
       "\n",
       "    .dataframe tbody tr th {\n",
       "        vertical-align: top;\n",
       "    }\n",
       "\n",
       "    .dataframe thead th {\n",
       "        text-align: right;\n",
       "    }\n",
       "</style>\n",
       "<table border=\"1\" class=\"dataframe\">\n",
       "  <thead>\n",
       "    <tr style=\"text-align: right;\">\n",
       "      <th></th>\n",
       "      <th>studyName</th>\n",
       "      <th>Sample Number</th>\n",
       "      <th>Species</th>\n",
       "      <th>Island</th>\n",
       "      <th>Individual ID</th>\n",
       "      <th>Date Egg</th>\n",
       "      <th>Culmen Length (mm)</th>\n",
       "      <th>Culmen Depth (mm)</th>\n",
       "      <th>Flipper Length (mm)</th>\n",
       "      <th>Body Mass (g)</th>\n",
       "      <th>Sex</th>\n",
       "      <th>Comments</th>\n",
       "    </tr>\n",
       "  </thead>\n",
       "  <tbody>\n",
       "    <tr>\n",
       "      <th>0</th>\n",
       "      <td>PAL0708</td>\n",
       "      <td>1</td>\n",
       "      <td>Adelie Penguin (Pygoscelis adeliae)</td>\n",
       "      <td>Torgersen</td>\n",
       "      <td>N1A1</td>\n",
       "      <td>11/11/2007</td>\n",
       "      <td>39.1</td>\n",
       "      <td>18.7</td>\n",
       "      <td>181</td>\n",
       "      <td>.</td>\n",
       "      <td>MALE</td>\n",
       "      <td>Not enough blood for isotopes.</td>\n",
       "    </tr>\n",
       "    <tr>\n",
       "      <th>1</th>\n",
       "      <td>PAL0708</td>\n",
       "      <td>2</td>\n",
       "      <td>Adelie Penguin (Pygoscelis adeliae)</td>\n",
       "      <td>Torgersen</td>\n",
       "      <td>N1A2</td>\n",
       "      <td>11/11/2007</td>\n",
       "      <td>39.5</td>\n",
       "      <td>17.4</td>\n",
       "      <td>186</td>\n",
       "      <td>3800</td>\n",
       "      <td>FEMALE</td>\n",
       "      <td>NaN</td>\n",
       "    </tr>\n",
       "    <tr>\n",
       "      <th>2</th>\n",
       "      <td>PAL0708</td>\n",
       "      <td>3</td>\n",
       "      <td>Adelie Penguin (Pygoscelis adeliae)</td>\n",
       "      <td>Torgersen</td>\n",
       "      <td>N2A1</td>\n",
       "      <td>11/16/2007</td>\n",
       "      <td>40.3</td>\n",
       "      <td>18.0</td>\n",
       "      <td>.</td>\n",
       "      <td>3250</td>\n",
       "      <td>FEMALE</td>\n",
       "      <td>NaN</td>\n",
       "    </tr>\n",
       "    <tr>\n",
       "      <th>3</th>\n",
       "      <td>PAL0708</td>\n",
       "      <td>4</td>\n",
       "      <td>Adelie Penguin (Pygoscelis adeliae)</td>\n",
       "      <td>Torgersen</td>\n",
       "      <td>N2A2</td>\n",
       "      <td>11/16/2007</td>\n",
       "      <td>NaN</td>\n",
       "      <td>NaN</td>\n",
       "      <td>NaN</td>\n",
       "      <td>NaN</td>\n",
       "      <td>NaN</td>\n",
       "      <td>Adult not sampled.</td>\n",
       "    </tr>\n",
       "    <tr>\n",
       "      <th>4</th>\n",
       "      <td>PAL0708</td>\n",
       "      <td>5</td>\n",
       "      <td>Adelie Penguin (Pygoscelis adeliae)</td>\n",
       "      <td>Torgersen</td>\n",
       "      <td>N3A1</td>\n",
       "      <td>11/16/2007</td>\n",
       "      <td>36.7</td>\n",
       "      <td>19.3</td>\n",
       "      <td>193</td>\n",
       "      <td>3450</td>\n",
       "      <td>FEMALE</td>\n",
       "      <td>NaN</td>\n",
       "    </tr>\n",
       "  </tbody>\n",
       "</table>\n",
       "</div>"
      ],
      "text/plain": [
       "  studyName  Sample Number                              Species     Island  \\\n",
       "0   PAL0708              1  Adelie Penguin (Pygoscelis adeliae)  Torgersen   \n",
       "1   PAL0708              2  Adelie Penguin (Pygoscelis adeliae)  Torgersen   \n",
       "2   PAL0708              3  Adelie Penguin (Pygoscelis adeliae)  Torgersen   \n",
       "3   PAL0708              4  Adelie Penguin (Pygoscelis adeliae)  Torgersen   \n",
       "4   PAL0708              5  Adelie Penguin (Pygoscelis adeliae)  Torgersen   \n",
       "\n",
       "  Individual ID    Date Egg  Culmen Length (mm)  Culmen Depth (mm)  \\\n",
       "0          N1A1  11/11/2007                39.1               18.7   \n",
       "1          N1A2  11/11/2007                39.5               17.4   \n",
       "2          N2A1  11/16/2007                40.3               18.0   \n",
       "3          N2A2  11/16/2007                 NaN                NaN   \n",
       "4          N3A1  11/16/2007                36.7               19.3   \n",
       "\n",
       "  Flipper Length (mm) Body Mass (g)     Sex                        Comments  \n",
       "0                 181             .    MALE  Not enough blood for isotopes.  \n",
       "1                 186          3800  FEMALE                             NaN  \n",
       "2                   .          3250  FEMALE                             NaN  \n",
       "3                 NaN           NaN     NaN              Adult not sampled.  \n",
       "4                 193          3450  FEMALE                             NaN  "
      ]
     },
     "execution_count": 26,
     "metadata": {},
     "output_type": "execute_result"
    }
   ],
   "source": [
    "data = pd.read_csv('Iris flower data.csv')\n",
    "data.head()"
   ]
  },
  {
   "cell_type": "code",
   "execution_count": 4,
   "id": "c291f09f",
   "metadata": {},
   "outputs": [
    {
     "data": {
      "text/plain": [
       "Index(['studyName', 'Sample Number', 'Species', 'Island', 'Individual ID',\n",
       "       'Date Egg', 'Culmen Length (mm)', 'Culmen Depth (mm)',\n",
       "       'Flipper Length (mm)', 'Body Mass (g)', 'Sex', 'Comments'],\n",
       "      dtype='object')"
      ]
     },
     "execution_count": 4,
     "metadata": {},
     "output_type": "execute_result"
    }
   ],
   "source": [
    "data.columns"
   ]
  },
  {
   "cell_type": "code",
   "execution_count": null,
   "id": "f4c51d96",
   "metadata": {},
   "outputs": [],
   "source": [
    "#  NON SIGNIFICANT VARIABLES - studyName', 'Sample Number',Date Egg, 'Individual ID','Comments'\n",
    "# Drop the Non-significant variables"
   ]
  },
  {
   "cell_type": "code",
   "execution_count": 27,
   "id": "84f41b45",
   "metadata": {
    "scrolled": true
   },
   "outputs": [
    {
     "data": {
      "text/html": [
       "<div>\n",
       "<style scoped>\n",
       "    .dataframe tbody tr th:only-of-type {\n",
       "        vertical-align: middle;\n",
       "    }\n",
       "\n",
       "    .dataframe tbody tr th {\n",
       "        vertical-align: top;\n",
       "    }\n",
       "\n",
       "    .dataframe thead th {\n",
       "        text-align: right;\n",
       "    }\n",
       "</style>\n",
       "<table border=\"1\" class=\"dataframe\">\n",
       "  <thead>\n",
       "    <tr style=\"text-align: right;\">\n",
       "      <th></th>\n",
       "      <th>Species</th>\n",
       "      <th>Island</th>\n",
       "      <th>Culmen Length (mm)</th>\n",
       "      <th>Culmen Depth (mm)</th>\n",
       "      <th>Flipper Length (mm)</th>\n",
       "      <th>Body Mass (g)</th>\n",
       "      <th>Sex</th>\n",
       "    </tr>\n",
       "  </thead>\n",
       "  <tbody>\n",
       "    <tr>\n",
       "      <th>0</th>\n",
       "      <td>Adelie Penguin (Pygoscelis adeliae)</td>\n",
       "      <td>Torgersen</td>\n",
       "      <td>39.1</td>\n",
       "      <td>18.7</td>\n",
       "      <td>181</td>\n",
       "      <td>.</td>\n",
       "      <td>MALE</td>\n",
       "    </tr>\n",
       "    <tr>\n",
       "      <th>1</th>\n",
       "      <td>Adelie Penguin (Pygoscelis adeliae)</td>\n",
       "      <td>Torgersen</td>\n",
       "      <td>39.5</td>\n",
       "      <td>17.4</td>\n",
       "      <td>186</td>\n",
       "      <td>3800</td>\n",
       "      <td>FEMALE</td>\n",
       "    </tr>\n",
       "    <tr>\n",
       "      <th>2</th>\n",
       "      <td>Adelie Penguin (Pygoscelis adeliae)</td>\n",
       "      <td>Torgersen</td>\n",
       "      <td>40.3</td>\n",
       "      <td>18.0</td>\n",
       "      <td>.</td>\n",
       "      <td>3250</td>\n",
       "      <td>FEMALE</td>\n",
       "    </tr>\n",
       "    <tr>\n",
       "      <th>3</th>\n",
       "      <td>Adelie Penguin (Pygoscelis adeliae)</td>\n",
       "      <td>Torgersen</td>\n",
       "      <td>NaN</td>\n",
       "      <td>NaN</td>\n",
       "      <td>NaN</td>\n",
       "      <td>NaN</td>\n",
       "      <td>NaN</td>\n",
       "    </tr>\n",
       "    <tr>\n",
       "      <th>4</th>\n",
       "      <td>Adelie Penguin (Pygoscelis adeliae)</td>\n",
       "      <td>Torgersen</td>\n",
       "      <td>36.7</td>\n",
       "      <td>19.3</td>\n",
       "      <td>193</td>\n",
       "      <td>3450</td>\n",
       "      <td>FEMALE</td>\n",
       "    </tr>\n",
       "  </tbody>\n",
       "</table>\n",
       "</div>"
      ],
      "text/plain": [
       "                               Species     Island  Culmen Length (mm)  \\\n",
       "0  Adelie Penguin (Pygoscelis adeliae)  Torgersen                39.1   \n",
       "1  Adelie Penguin (Pygoscelis adeliae)  Torgersen                39.5   \n",
       "2  Adelie Penguin (Pygoscelis adeliae)  Torgersen                40.3   \n",
       "3  Adelie Penguin (Pygoscelis adeliae)  Torgersen                 NaN   \n",
       "4  Adelie Penguin (Pygoscelis adeliae)  Torgersen                36.7   \n",
       "\n",
       "   Culmen Depth (mm) Flipper Length (mm) Body Mass (g)     Sex  \n",
       "0               18.7                 181             .    MALE  \n",
       "1               17.4                 186          3800  FEMALE  \n",
       "2               18.0                   .          3250  FEMALE  \n",
       "3                NaN                 NaN           NaN     NaN  \n",
       "4               19.3                 193          3450  FEMALE  "
      ]
     },
     "execution_count": 27,
     "metadata": {},
     "output_type": "execute_result"
    }
   ],
   "source": [
    "data.drop(['studyName', 'Sample Number','Date Egg', 'Individual ID','Comments'],inplace=True,axis=1)\n",
    "data.head()"
   ]
  },
  {
   "cell_type": "markdown",
   "id": "703f5e36",
   "metadata": {},
   "source": [
    "## Data_Preprocessing"
   ]
  },
  {
   "cell_type": "code",
   "execution_count": 28,
   "id": "1f7acc3f",
   "metadata": {
    "scrolled": false
   },
   "outputs": [
    {
     "name": "stdout",
     "output_type": "stream",
     "text": [
      "<class 'pandas.core.frame.DataFrame'>\n",
      "RangeIndex: 344 entries, 0 to 343\n",
      "Data columns (total 7 columns):\n",
      " #   Column               Non-Null Count  Dtype  \n",
      "---  ------               --------------  -----  \n",
      " 0   Species              344 non-null    object \n",
      " 1   Island               344 non-null    object \n",
      " 2   Culmen Length (mm)   342 non-null    float64\n",
      " 3   Culmen Depth (mm)    342 non-null    float64\n",
      " 4   Flipper Length (mm)  342 non-null    object \n",
      " 5   Body Mass (g)        342 non-null    object \n",
      " 6   Sex                  334 non-null    object \n",
      "dtypes: float64(2), object(5)\n",
      "memory usage: 18.9+ KB\n"
     ]
    }
   ],
   "source": [
    "data.info()"
   ]
  },
  {
   "cell_type": "code",
   "execution_count": 29,
   "id": "80e3b9d9",
   "metadata": {
    "scrolled": true
   },
   "outputs": [
    {
     "data": {
      "text/plain": [
       "Species                 0\n",
       "Island                  0\n",
       "Culmen Length (mm)      2\n",
       "Culmen Depth (mm)       2\n",
       "Flipper Length (mm)     2\n",
       "Body Mass (g)           2\n",
       "Sex                    10\n",
       "dtype: int64"
      ]
     },
     "execution_count": 29,
     "metadata": {},
     "output_type": "execute_result"
    }
   ],
   "source": [
    "data.isnull().sum()"
   ]
  },
  {
   "cell_type": "code",
   "execution_count": 30,
   "id": "a44e741d",
   "metadata": {
    "scrolled": true
   },
   "outputs": [
    {
     "data": {
      "text/plain": [
       "Species                0.000000\n",
       "Island                 0.000000\n",
       "Culmen Length (mm)     0.581395\n",
       "Culmen Depth (mm)      0.581395\n",
       "Flipper Length (mm)    0.581395\n",
       "Body Mass (g)          0.581395\n",
       "Sex                    2.906977\n",
       "dtype: float64"
      ]
     },
     "execution_count": 30,
     "metadata": {},
     "output_type": "execute_result"
    }
   ],
   "source": [
    "(data.isnull().sum()/len(data))*100"
   ]
  },
  {
   "cell_type": "code",
   "execution_count": 31,
   "id": "04d2c8c0",
   "metadata": {
    "scrolled": true
   },
   "outputs": [
    {
     "data": {
      "text/plain": [
       "190    22\n",
       "187    16\n",
       "195    16\n",
       "193    15\n",
       "210    14\n",
       "191    13\n",
       "215    12\n",
       "196    10\n",
       "197    10\n",
       "185     9\n",
       "220     8\n",
       "198     8\n",
       "208     8\n",
       "216     8\n",
       "212     7\n",
       "186     7\n",
       "230     7\n",
       "192     7\n",
       "181     7\n",
       "189     7\n",
       "184     7\n",
       "188     6\n",
       "222     6\n",
       "201     6\n",
       "213     6\n",
       "217     6\n",
       "199     6\n",
       "214     6\n",
       "209     5\n",
       "219     5\n",
       "218     5\n",
       "221     5\n",
       "203     5\n",
       "180     5\n",
       "194     5\n",
       "178     4\n",
       "200     4\n",
       "228     4\n",
       "225     4\n",
       "202     4\n",
       "205     3\n",
       "224     3\n",
       "182     3\n",
       "223     2\n",
       "183     2\n",
       "229     2\n",
       "211     2\n",
       "207     2\n",
       "231     1\n",
       "176     1\n",
       "174     1\n",
       ".       1\n",
       "206     1\n",
       "172     1\n",
       "179     1\n",
       "226     1\n",
       "Name: Flipper Length (mm), dtype: int64"
      ]
     },
     "execution_count": 31,
     "metadata": {},
     "output_type": "execute_result"
    }
   ],
   "source": [
    "data['Flipper Length (mm)'].value_counts()"
   ]
  },
  {
   "cell_type": "code",
   "execution_count": 32,
   "id": "14d6fba1",
   "metadata": {},
   "outputs": [],
   "source": [
    "data['Flipper Length (mm)'] = np.where(data['Flipper Length (mm)']=='.',np.nan,data['Flipper Length (mm)'])"
   ]
  },
  {
   "cell_type": "code",
   "execution_count": 34,
   "id": "23402ab9",
   "metadata": {},
   "outputs": [],
   "source": [
    "data['Flipper Length (mm)'] = pd.to_numeric(data['Flipper Length (mm)'])"
   ]
  },
  {
   "cell_type": "code",
   "execution_count": 35,
   "id": "9b8c4ea5",
   "metadata": {},
   "outputs": [
    {
     "name": "stdout",
     "output_type": "stream",
     "text": [
      "<class 'pandas.core.frame.DataFrame'>\n",
      "RangeIndex: 344 entries, 0 to 343\n",
      "Data columns (total 7 columns):\n",
      " #   Column               Non-Null Count  Dtype  \n",
      "---  ------               --------------  -----  \n",
      " 0   Species              344 non-null    object \n",
      " 1   Island               344 non-null    object \n",
      " 2   Culmen Length (mm)   342 non-null    float64\n",
      " 3   Culmen Depth (mm)    342 non-null    float64\n",
      " 4   Flipper Length (mm)  341 non-null    float64\n",
      " 5   Body Mass (g)        342 non-null    object \n",
      " 6   Sex                  334 non-null    object \n",
      "dtypes: float64(3), object(4)\n",
      "memory usage: 18.9+ KB\n"
     ]
    }
   ],
   "source": [
    "data.info()"
   ]
  },
  {
   "cell_type": "code",
   "execution_count": 36,
   "id": "5737585e",
   "metadata": {},
   "outputs": [],
   "source": [
    "data['Body Mass (g)'] = np.where(data['Body Mass (g)']=='.',np.nan,data['Body Mass (g)'])"
   ]
  },
  {
   "cell_type": "code",
   "execution_count": 37,
   "id": "e6dcee9c",
   "metadata": {},
   "outputs": [],
   "source": [
    "data['Body Mass (g)'] = pd.to_numeric(data['Body Mass (g)'])"
   ]
  },
  {
   "cell_type": "code",
   "execution_count": 38,
   "id": "bbe24ebd",
   "metadata": {},
   "outputs": [
    {
     "name": "stdout",
     "output_type": "stream",
     "text": [
      "<class 'pandas.core.frame.DataFrame'>\n",
      "RangeIndex: 344 entries, 0 to 343\n",
      "Data columns (total 7 columns):\n",
      " #   Column               Non-Null Count  Dtype  \n",
      "---  ------               --------------  -----  \n",
      " 0   Species              344 non-null    object \n",
      " 1   Island               344 non-null    object \n",
      " 2   Culmen Length (mm)   342 non-null    float64\n",
      " 3   Culmen Depth (mm)    342 non-null    float64\n",
      " 4   Flipper Length (mm)  341 non-null    float64\n",
      " 5   Body Mass (g)        341 non-null    float64\n",
      " 6   Sex                  334 non-null    object \n",
      "dtypes: float64(4), object(3)\n",
      "memory usage: 18.9+ KB\n"
     ]
    }
   ],
   "source": [
    "data.info()"
   ]
  },
  {
   "cell_type": "code",
   "execution_count": 39,
   "id": "6ba0051d",
   "metadata": {},
   "outputs": [
    {
     "data": {
      "text/plain": [
       "<AxesSubplot:xlabel='Culmen Length (mm)'>"
      ]
     },
     "execution_count": 39,
     "metadata": {},
     "output_type": "execute_result"
    },
    {
     "data": {
      "image/png": "[encoded data removed]",
      "text/plain": [
       "<Figure size 432x288 with 1 Axes>"
      ]
     },
     "metadata": {
      "needs_background": "light"
     },
     "output_type": "display_data"
    }
   ],
   "source": [
    "sns.boxplot(x ='Culmen Length (mm)',data = data )"
   ]
  },
  {
   "cell_type": "code",
   "execution_count": 40,
   "id": "ba628e61",
   "metadata": {},
   "outputs": [
    {
     "data": {
      "text/plain": [
       "<AxesSubplot:xlabel='Culmen Depth (mm)'>"
      ]
     },
     "execution_count": 40,
     "metadata": {},
     "output_type": "execute_result"
    },
    {
     "data": {
      "image/png": "[encoded data removed]",
      "text/plain": [
       "<Figure size 432x288 with 1 Axes>"
      ]
     },
     "metadata": {
      "needs_background": "light"
     },
     "output_type": "display_data"
    }
   ],
   "source": [
    "sns.boxplot(x ='Culmen Depth (mm)',data = data )"
   ]
  },
  {
   "cell_type": "code",
   "execution_count": 41,
   "id": "f63fe847",
   "metadata": {},
   "outputs": [
    {
     "data": {
      "text/plain": [
       "<AxesSubplot:xlabel='Flipper Length (mm)'>"
      ]
     },
     "execution_count": 41,
     "metadata": {},
     "output_type": "execute_result"
    },
    {
     "data": {
      "image/png": "[encoded data removed]",
      "text/plain": [
       "<Figure size 432x288 with 1 Axes>"
      ]
     },
     "metadata": {
      "needs_background": "light"
     },
     "output_type": "display_data"
    }
   ],
   "source": [
    "sns.boxplot(x ='Flipper Length (mm)',data = data )"
   ]
  },
  {
   "cell_type": "code",
   "execution_count": 42,
   "id": "20daa3fb",
   "metadata": {},
   "outputs": [
    {
     "data": {
      "text/plain": [
       "<AxesSubplot:xlabel='Body Mass (g)'>"
      ]
     },
     "execution_count": 42,
     "metadata": {},
     "output_type": "execute_result"
    },
    {
     "data": {
      "image/png": "[encoded data removed]",
      "text/plain": [
       "<Figure size 432x288 with 1 Axes>"
      ]
     },
     "metadata": {
      "needs_background": "light"
     },
     "output_type": "display_data"
    }
   ],
   "source": [
    "sns.boxplot(x ='Body Mass (g)',data = data )"
   ]
  }
 ],
 "metadata": {
  "kernelspec": {
   "display_name": "Python 3 (ipykernel)",
   "language": "python",
   "name": "python3"
  },
  "language_info": {
   "codemirror_mode": {
    "name": "ipython",
    "version": 3
   },
   "file_extension": ".py",
   "mimetype": "text/x-python",
   "name": "python",
   "nbconvert_exporter": "python",
   "pygments_lexer": "ipython3",
   "version": "3.9.7"
  }
 },
 "nbformat": 4,
 "nbformat_minor": 5
}
